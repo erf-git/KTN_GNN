{
 "cells": [
  {
   "cell_type": "code",
   "execution_count": 22,
   "id": "af87d318",
   "metadata": {},
   "outputs": [],
   "source": [
    "import os\n",
    "import torch\n",
    "import pandas as pd\n",
    "import numpy as np\n",
    "import networkx as nx\n",
    "import matplotlib.pyplot as plt\n",
    "\n",
    "from model_lp import BaseLabelPropagation, LabelPropagation, LabelSpreading\n",
    "from sklearn.metrics import f1_score"
   ]
  },
  {
   "cell_type": "code",
   "execution_count": 23,
   "id": "752cb591",
   "metadata": {},
   "outputs": [
    {
     "name": "stdout",
     "output_type": "stream",
     "text": [
      "/home/erf6575/Desktop/KTN-main/LP Model\n"
     ]
    }
   ],
   "source": [
    "parent_dir = os.path.abspath(os.path.join(os.getcwd(), os.pardir))\n",
    "print(parent_dir)"
   ]
  },
  {
   "cell_type": "code",
   "execution_count": 24,
   "id": "19d44969",
   "metadata": {},
   "outputs": [],
   "source": [
    "def create_boolean_tensor(length, train_percent):\n",
    "    num_true = int(length * train_percent)\n",
    "    numpy_array = np.concatenate((np.ones(num_true, dtype=np.bool), np.zeros(length - num_true, dtype=np.bool)))\n",
    "    np.random.seed(42)\n",
    "    np.random.shuffle(numpy_array)\n",
    "    return numpy_array"
   ]
  },
  {
   "cell_type": "code",
   "execution_count": 26,
   "id": "dc63164d",
   "metadata": {},
   "outputs": [
    {
     "name": "stdout",
     "output_type": "stream",
     "text": [
      "tensor([[1.2650e+03, 1.2648e-01, 1.0435e-01,  ..., 9.1885e-01, 0.0000e+00,\n",
      "         1.3000e+01],\n",
      "        [2.8600e+02, 8.0420e-02, 1.9930e-01,  ..., 4.1765e+00, 0.0000e+00,\n",
      "         3.5000e+01],\n",
      "        [1.5190e+03, 2.0145e-01, 9.4799e-02,  ..., 4.7784e-01, 0.0000e+00,\n",
      "         5.0000e+00],\n",
      "        ...,\n",
      "        [2.0000e+00, 5.0000e-01, 5.0000e-01,  ..., 0.0000e+00, 1.3800e+02,\n",
      "         1.3800e+02],\n",
      "        [1.0000e+00, 0.0000e+00, 0.0000e+00,  ..., 0.0000e+00, 0.0000e+00,\n",
      "         0.0000e+00],\n",
      "        [1.0000e+00, 0.0000e+00, 0.0000e+00,  ..., 0.0000e+00, 0.0000e+00,\n",
      "         0.0000e+00]])\n",
      "torch.Size([3408, 17])\n",
      "tensor([0, 0, 1,  ..., 1, 0, 1])\n",
      "torch.Size([3408])\n",
      "tensor([True, True, True,  ..., True, True, True])\n",
      "torch.Size([3408])\n"
     ]
    },
    {
     "name": "stderr",
     "output_type": "stream",
     "text": [
      "/tmp/ipykernel_55515/782207011.py:3: DeprecationWarning: `np.bool` is a deprecated alias for the builtin `bool`. To silence this warning, use `bool` by itself. Doing this will not modify any behavior and is safe. If you specifically wanted the numpy scalar type, use `np.bool_` here.\n",
      "Deprecated in NumPy 1.20; for more details and guidance: https://numpy.org/devdocs/release/1.20.0-notes.html#deprecations\n",
      "  numpy_array = np.concatenate((np.ones(num_true, dtype=np.bool), np.zeros(length - num_true, dtype=np.bool)))\n"
     ]
    }
   ],
   "source": [
    "product_features = np.load(parent_dir + '/data/nodes-product.npy').astype(np.float32)\n",
    "product_features = torch.from_numpy(product_features).to(torch.float)\n",
    "print(product_features)\n",
    "print(product_features.shape)\n",
    "\n",
    "product_labels = np.load(parent_dir + '/data/labels-product.npy').astype(np.int32).flatten()\n",
    "product_labels = torch.from_numpy(product_labels).to(torch.long)\n",
    "print(product_labels)\n",
    "print(product_labels.shape)\n",
    "\n",
    "# product_df = pd.read_csv(parent_dir + '/data/product_train_test.csv').drop(columns=['product_asin'])\n",
    "# product_is_train = product_df.to_numpy(dtype=bool).flatten()\n",
    "\n",
    "product_is_train = create_boolean_tensor(product_labels.shape[0], 0.003)\n",
    "product_is_test = ~torch.from_numpy(product_is_train)\n",
    "print(product_is_test)\n",
    "print(product_is_test.shape)"
   ]
  },
  {
   "cell_type": "code",
   "execution_count": 27,
   "id": "d4b32184",
   "metadata": {},
   "outputs": [
    {
     "name": "stdout",
     "output_type": "stream",
     "text": [
      "      0     1     2     3     4     5     6     7     8     9     ...  3398  \\\n",
      "0        1     1     1     0     1     1     1     0     0     0  ...     0   \n",
      "1        1     1     1     0     0     0     1     0     0     1  ...     0   \n",
      "2        1     1     1     0     1     1     1     0     1     1  ...     0   \n",
      "3        0     0     0     1     0     0     1     0     0     0  ...     0   \n",
      "4        1     0     1     0     1     1     1     0     0     1  ...     0   \n",
      "...    ...   ...   ...   ...   ...   ...   ...   ...   ...   ...  ...   ...   \n",
      "3403     0     0     0     0     0     0     0     0     0     0  ...     0   \n",
      "3404     0     0     0     0     0     0     0     0     0     0  ...     0   \n",
      "3405     0     0     0     0     0     0     0     0     0     0  ...     0   \n",
      "3406     0     0     0     0     0     0     0     0     0     0  ...     0   \n",
      "3407     0     0     0     0     0     0     0     0     0     0  ...     0   \n",
      "\n",
      "      3399  3400  3401  3402  3403  3404  3405  3406  3407  \n",
      "0        0     0     0     0     0     0     0     0     0  \n",
      "1        0     0     0     0     0     0     0     0     0  \n",
      "2        0     0     0     0     0     0     0     0     0  \n",
      "3        0     0     0     0     0     0     0     0     0  \n",
      "4        0     0     0     0     0     0     0     0     0  \n",
      "...    ...   ...   ...   ...   ...   ...   ...   ...   ...  \n",
      "3403     0     0     0     0     1     0     0     0     0  \n",
      "3404     0     0     0     0     0     1     0     0     0  \n",
      "3405     0     0     0     0     0     0     1     0     0  \n",
      "3406     0     0     0     0     0     0     0     1     0  \n",
      "3407     0     0     0     0     0     0     0     0     1  \n",
      "\n",
      "[3408 rows x 3408 columns]\n",
      "tensor([0, 0, 1,  ..., 1, 0, 1])\n",
      "tensor([-1, -1, -1,  ..., -1, -1, -1])\n",
      "torch.Size([3408, 3408])\n",
      "torch.Size([3408])\n"
     ]
    }
   ],
   "source": [
    "# Create the product graph\n",
    "half_1 = pd.read_csv(parent_dir + '/data/edges-to-product-from-product.csv')\n",
    "half_2 = half_1[['Target', 'Source']].rename(columns={'Target': 'Source', 'Source': 'Target'})\n",
    "half_3 = pd.DataFrame(data={'Source': list(range(0, 3408)), 'Target': list(range(0, 3408))})\n",
    "adj_df = pd.concat([half_1, half_2, half_3], axis=0, ignore_index=True)\n",
    "adj_df['Weight'] = 1\n",
    "#print(adj_df)\n",
    "\n",
    "vals = np.unique(adj_df[['Source', 'Target']])\n",
    "my_adj_matrix = pd.DataFrame(0, index=vals, columns=vals)\n",
    "f = my_adj_matrix.index.get_indexer\n",
    "my_adj_matrix.values[f(adj_df.Source), f(adj_df.Target)] = adj_df.Weight.values\n",
    "\n",
    "print(my_adj_matrix)\n",
    "\n",
    "\n",
    "# Labels\n",
    "my_labels = product_labels.detach().clone()\n",
    "print(my_labels)\n",
    "# All the labels that are boolean test will turn into -1 (empty)\n",
    "my_labels[product_is_test] = -1\n",
    "print(my_labels)\n",
    "\n",
    "\n",
    "# Create input tensors\n",
    "adj_matrix_t = torch.FloatTensor(my_adj_matrix.values)\n",
    "labels_t = my_labels\n",
    "\n",
    "print(adj_matrix_t.shape)\n",
    "print(labels_t.shape)"
   ]
  },
  {
   "cell_type": "code",
   "execution_count": 28,
   "id": "00c0e6af",
   "metadata": {},
   "outputs": [
    {
     "name": "stdout",
     "output_type": "stream",
     "text": [
      "Label Propagation: "
     ]
    },
    {
     "data": {
      "text/plain": [
       "0.3462757056018203"
      ]
     },
     "execution_count": 28,
     "metadata": {},
     "output_type": "execute_result"
    }
   ],
   "source": [
    "# Learn with Label Propagation\n",
    "label_propagation = LabelPropagation(adj_matrix_t)\n",
    "print(\"Label Propagation: \", end=\"\")\n",
    "label_propagation.fit(labels_t)\n",
    "label_propagation_output_labels = label_propagation.predict_classes()\n",
    "\n",
    "f1_score(product_labels, label_propagation_output_labels, average='macro')"
   ]
  },
  {
   "cell_type": "code",
   "execution_count": 29,
   "id": "82e9a521",
   "metadata": {},
   "outputs": [
    {
     "name": "stdout",
     "output_type": "stream",
     "text": [
      "Label Spreading: The method stopped after 13 iterations, variation=0.0005.\n"
     ]
    },
    {
     "data": {
      "text/plain": [
       "0.3462757056018203"
      ]
     },
     "execution_count": 29,
     "metadata": {},
     "output_type": "execute_result"
    }
   ],
   "source": [
    "# Learn with Label Spreading\n",
    "label_spreading = LabelSpreading(adj_matrix_t)\n",
    "print(\"Label Spreading: \", end=\"\")\n",
    "label_spreading.fit(labels_t, alpha=0.8)\n",
    "label_spreading_output_labels = label_spreading.predict_classes()\n",
    "\n",
    "f1_score(product_labels, label_propagation_output_labels, average='macro')"
   ]
  }
 ],
 "metadata": {
  "kernelspec": {
   "display_name": "Python 3 (ipykernel)",
   "language": "python",
   "name": "python3"
  },
  "language_info": {
   "codemirror_mode": {
    "name": "ipython",
    "version": 3
   },
   "file_extension": ".py",
   "mimetype": "text/x-python",
   "name": "python",
   "nbconvert_exporter": "python",
   "pygments_lexer": "ipython3",
   "version": "3.10.12"
  }
 },
 "nbformat": 4,
 "nbformat_minor": 5
}
